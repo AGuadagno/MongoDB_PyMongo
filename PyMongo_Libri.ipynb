{
 "cells": [
  {
   "cell_type": "code",
   "execution_count": 1,
   "id": "ee8ca076",
   "metadata": {},
   "outputs": [],
   "source": [
    "# Importiamo le librerie\n",
    "\n",
    "from pymongo import MongoClient\n",
    "from bson.objectid import ObjectId\n",
    "import json"
   ]
  },
  {
   "cell_type": "code",
   "execution_count": 2,
   "id": "18c8dbc0",
   "metadata": {},
   "outputs": [],
   "source": [
    "# Creiamo le variabili per il client, il db e la collection \n",
    "\n",
    "client = MongoClient(\"mongodb://localhost:27017\")\n",
    "db = client.libreria\n",
    "libriCollection = db.libri"
   ]
  },
  {
   "cell_type": "code",
   "execution_count": 3,
   "id": "fdfe5c4b",
   "metadata": {},
   "outputs": [],
   "source": [
    "# Apriamo il file json contenente le informazioni sui libri da inserire nella nostra collection\n",
    "\n",
    "with open('libri.json', 'r') as file:\n",
    "    libri = json.load(file)"
   ]
  },
  {
   "cell_type": "code",
   "execution_count": 4,
   "id": "5566f31e",
   "metadata": {},
   "outputs": [
    {
     "data": {
      "text/plain": [
       "<pymongo.results.InsertManyResult at 0x2873ffe3070>"
      ]
     },
     "execution_count": 4,
     "metadata": {},
     "output_type": "execute_result"
    }
   ],
   "source": [
    "# Inseriamo i libri del json file all'interno della nostra collection\n",
    "\n",
    "libriCollection.insert_many(libri)"
   ]
  },
  {
   "cell_type": "markdown",
   "id": "d09d4fab",
   "metadata": {},
   "source": [
    "### Ora che la nostra collection è stata popolata, iniziamo ad eseguire le prime query."
   ]
  },
  {
   "cell_type": "code",
   "execution_count": 5,
   "id": "d09481a0",
   "metadata": {},
   "outputs": [
    {
     "name": "stdout",
     "output_type": "stream",
     "text": [
      "{'_id': ObjectId('6429a8e3d5bd0b8abd02e540'), 'Titolo': 'Harry Potter e la pietra filosofale', 'Autore': 'Rowling', 'Anno pubblicazione': 1997, 'Genere': ['Fantascienza', 'Magia'], 'Recensioni': [{'Stelle': 4, 'Recensione': 'Bel libro', 'Utente': 'Marco'}, {'Stelle': 5, 'Recensione': 'Il mio libro preferito', 'Utente': 'Luigi'}, {'Stelle': 2, 'Recensione': 'Noioso', 'Utente': 'Giorgio'}]}\n",
      "{'_id': ObjectId('6429a8e3d5bd0b8abd02e541'), 'Titolo': 'Harry Potter e la camera dei segreti', 'Autore': 'Rowling', 'Anno pubblicazione': 1999, 'Genere': ['Fantascienza', 'Magia'], 'Recensioni': [{'Stelle': 2, 'Recensione': 'Meglio il primo'}]}\n",
      "{'_id': ObjectId('6429a8e3d5bd0b8abd02e542'), 'Titolo': 'Il signore degli anelli', 'Autore': 'Tolkien', 'Genere': ['Fantascienza', 'Avventura'], 'Recensioni': [{'Stelle': 4, 'Recensione': 'Emozionante', 'Utente': 'Luigi'}, {'Stelle': 5, 'Recensione': 'Il migliore di sempre', 'Utente': 'Mirco'}]}\n",
      "{'_id': ObjectId('6429a8e3d5bd0b8abd02e543'), 'Titolo': 'Zanna Bianca', 'Autore': 'London', 'Genere': ['Avventura'], 'Anno pubblicazione': 1906, 'Recensioni': [{'Stelle': 1, 'Recensione': 'Orribile', 'Utente': 'Luigi'}, {'Stelle': 5, 'Recensione': 'Il migliore di sempre', 'Utente': 'Federica'}]}\n",
      "{'_id': ObjectId('6429a8e3d5bd0b8abd02e544'), 'Titolo': 'Inferno', 'Autore': 'Brown', 'Genere': ['Avventura'], 'Anno pubblicazione': 2013, 'Recensioni': [{'Stelle': 4, 'Recensione': 'Stupendo', 'Utente': 'Mirco'}, {'Stelle': 5, 'Recensione': \"Brown e' il mio autore preferito\", 'Utente': 'Luisa'}]}\n",
      "{'_id': ObjectId('6429a8e3d5bd0b8abd02e545'), 'Titolo': 'Il codice da vinci', 'Autore': 'Brown', 'Genere': ['Azione'], 'Anno pubblicazione': 2003}\n"
     ]
    }
   ],
   "source": [
    "# Selezionare tutte le informazioni di tutti i libri\n",
    "\n",
    "result = libriCollection.find()\n",
    "\n",
    "for r in result: print(r)"
   ]
  },
  {
   "cell_type": "markdown",
   "id": "442810f0",
   "metadata": {},
   "source": [
    "### Per le prossime query è importante osservare che:\n",
    "\n",
    "    ### 1) Il genere è un array di valori\n",
    "    ### 2) Ogni recensione è un sotto-documenti e \"Recensioni\" è un array di sotto-documenti"
   ]
  },
  {
   "cell_type": "code",
   "execution_count": 6,
   "id": "75f750f8",
   "metadata": {},
   "outputs": [
    {
     "name": "stdout",
     "output_type": "stream",
     "text": [
      "{'_id': ObjectId('6429a8e3d5bd0b8abd02e540'), 'Titolo': 'Harry Potter e la pietra filosofale'}\n",
      "{'_id': ObjectId('6429a8e3d5bd0b8abd02e541'), 'Titolo': 'Harry Potter e la camera dei segreti'}\n",
      "{'_id': ObjectId('6429a8e3d5bd0b8abd02e542'), 'Titolo': 'Il signore degli anelli'}\n",
      "{'_id': ObjectId('6429a8e3d5bd0b8abd02e543'), 'Titolo': 'Zanna Bianca'}\n",
      "{'_id': ObjectId('6429a8e3d5bd0b8abd02e544'), 'Titolo': 'Inferno'}\n",
      "{'_id': ObjectId('6429a8e3d5bd0b8abd02e545'), 'Titolo': 'Il codice da vinci'}\n"
     ]
    }
   ],
   "source": [
    "# Selezionare il titolo di tutti i libri\n",
    "\n",
    "result = libriCollection.find({}, {\"Titolo\": 1})\n",
    "\n",
    "for r in result: print(r)"
   ]
  },
  {
   "cell_type": "code",
   "execution_count": 7,
   "id": "de847a6d",
   "metadata": {},
   "outputs": [
    {
     "name": "stdout",
     "output_type": "stream",
     "text": [
      "{'Titolo': 'Harry Potter e la pietra filosofale'}\n",
      "{'Titolo': 'Harry Potter e la camera dei segreti'}\n",
      "{'Titolo': 'Il signore degli anelli'}\n",
      "{'Titolo': 'Zanna Bianca'}\n",
      "{'Titolo': 'Inferno'}\n",
      "{'Titolo': 'Il codice da vinci'}\n"
     ]
    }
   ],
   "source": [
    "# Selezionando il titolo, è possibile escludere l'_id\n",
    "\n",
    "result = libriCollection.find({}, {\"_id\": 0, \"Titolo\": 1})\n",
    "\n",
    "for r in result: print(r)"
   ]
  },
  {
   "cell_type": "code",
   "execution_count": 8,
   "id": "89560d9a",
   "metadata": {},
   "outputs": [
    {
     "name": "stdout",
     "output_type": "stream",
     "text": [
      "{'Titolo': 'Harry Potter e la pietra filosofale', 'Autore': 'Rowling', 'Anno pubblicazione': 1997, 'Genere': ['Fantascienza', 'Magia']}\n",
      "{'Titolo': 'Harry Potter e la camera dei segreti', 'Autore': 'Rowling', 'Anno pubblicazione': 1999, 'Genere': ['Fantascienza', 'Magia']}\n",
      "{'Titolo': 'Il signore degli anelli', 'Autore': 'Tolkien', 'Genere': ['Fantascienza', 'Avventura']}\n",
      "{'Titolo': 'Zanna Bianca', 'Autore': 'London', 'Genere': ['Avventura'], 'Anno pubblicazione': 1906}\n",
      "{'Titolo': 'Inferno', 'Autore': 'Brown', 'Genere': ['Avventura'], 'Anno pubblicazione': 2013}\n",
      "{'Titolo': 'Il codice da vinci', 'Autore': 'Brown', 'Genere': ['Azione'], 'Anno pubblicazione': 2003}\n"
     ]
    }
   ],
   "source": [
    "# Selezionare tutte le informazioni di tutti i libri, escluse le recensioni e l'_id\n",
    "\n",
    "result = libriCollection.find({},{\"_id\": 0, \"Recensioni\": 0})\n",
    "\n",
    "for r in result: print(r)"
   ]
  },
  {
   "cell_type": "code",
   "execution_count": 9,
   "id": "dc21bb38",
   "metadata": {},
   "outputs": [
    {
     "name": "stdout",
     "output_type": "stream",
     "text": [
      "{'_id': ObjectId('6429a8e3d5bd0b8abd02e544'), 'Titolo': 'Inferno', 'Autore': 'Brown', 'Genere': ['Avventura'], 'Anno pubblicazione': 2013, 'Recensioni': [{'Stelle': 4, 'Recensione': 'Stupendo', 'Utente': 'Mirco'}, {'Stelle': 5, 'Recensione': \"Brown e' il mio autore preferito\", 'Utente': 'Luisa'}]}\n"
     ]
    }
   ],
   "source": [
    "# Selezionare il libro avente _id \"6429a8e3d5bd0b8abd02e544\"\n",
    "\n",
    "result = libriCollection.find({\"_id\": ObjectId(\"6429a8e3d5bd0b8abd02e544\")})\n",
    "\n",
    "for r in result: print(r)"
   ]
  },
  {
   "cell_type": "code",
   "execution_count": 10,
   "id": "d07c9adb",
   "metadata": {},
   "outputs": [
    {
     "name": "stdout",
     "output_type": "stream",
     "text": [
      "{'_id': ObjectId('6429a8e3d5bd0b8abd02e540'), 'Titolo': 'Harry Potter e la pietra filosofale', 'Autore': 'Rowling', 'Anno pubblicazione': 1997, 'Genere': ['Fantascienza', 'Magia'], 'Recensioni': [{'Stelle': 4, 'Recensione': 'Bel libro', 'Utente': 'Marco'}, {'Stelle': 5, 'Recensione': 'Il mio libro preferito', 'Utente': 'Luigi'}, {'Stelle': 2, 'Recensione': 'Noioso', 'Utente': 'Giorgio'}]}\n",
      "{'_id': ObjectId('6429a8e3d5bd0b8abd02e541'), 'Titolo': 'Harry Potter e la camera dei segreti', 'Autore': 'Rowling', 'Anno pubblicazione': 1999, 'Genere': ['Fantascienza', 'Magia'], 'Recensioni': [{'Stelle': 2, 'Recensione': 'Meglio il primo'}]}\n"
     ]
    }
   ],
   "source": [
    "# Selezionare tutti i libri di \"Rowling\"\n",
    "\n",
    "result = libriCollection.find({\"Autore\": \"Rowling\"})\n",
    "\n",
    "for r in result: print(r)"
   ]
  },
  {
   "cell_type": "code",
   "execution_count": 11,
   "id": "100f3145",
   "metadata": {},
   "outputs": [
    {
     "name": "stdout",
     "output_type": "stream",
     "text": [
      "{'_id': ObjectId('6429a8e3d5bd0b8abd02e544'), 'Titolo': 'Inferno', 'Autore': 'Brown', 'Genere': ['Avventura'], 'Anno pubblicazione': 2013, 'Recensioni': [{'Stelle': 4, 'Recensione': 'Stupendo', 'Utente': 'Mirco'}, {'Stelle': 5, 'Recensione': \"Brown e' il mio autore preferito\", 'Utente': 'Luisa'}]}\n",
      "{'_id': ObjectId('6429a8e3d5bd0b8abd02e545'), 'Titolo': 'Il codice da vinci', 'Autore': 'Brown', 'Genere': ['Azione'], 'Anno pubblicazione': 2003}\n"
     ]
    }
   ],
   "source": [
    "# Selezionare tutti i libri pubblicati dopo il 2000\n",
    "\n",
    "result = libriCollection.find({\"Anno pubblicazione\": {\"$gt\": 2000}})\n",
    "\n",
    "for r in result: print(r)"
   ]
  },
  {
   "cell_type": "code",
   "execution_count": 12,
   "id": "8a83070c",
   "metadata": {},
   "outputs": [
    {
     "name": "stdout",
     "output_type": "stream",
     "text": [
      "{'_id': ObjectId('6429a8e3d5bd0b8abd02e540'), 'Titolo': 'Harry Potter e la pietra filosofale', 'Autore': 'Rowling', 'Anno pubblicazione': 1997, 'Genere': ['Fantascienza', 'Magia'], 'Recensioni': [{'Stelle': 4, 'Recensione': 'Bel libro', 'Utente': 'Marco'}, {'Stelle': 5, 'Recensione': 'Il mio libro preferito', 'Utente': 'Luigi'}, {'Stelle': 2, 'Recensione': 'Noioso', 'Utente': 'Giorgio'}]}\n",
      "{'_id': ObjectId('6429a8e3d5bd0b8abd02e541'), 'Titolo': 'Harry Potter e la camera dei segreti', 'Autore': 'Rowling', 'Anno pubblicazione': 1999, 'Genere': ['Fantascienza', 'Magia'], 'Recensioni': [{'Stelle': 2, 'Recensione': 'Meglio il primo'}]}\n",
      "{'_id': ObjectId('6429a8e3d5bd0b8abd02e543'), 'Titolo': 'Zanna Bianca', 'Autore': 'London', 'Genere': ['Avventura'], 'Anno pubblicazione': 1906, 'Recensioni': [{'Stelle': 1, 'Recensione': 'Orribile', 'Utente': 'Luigi'}, {'Stelle': 5, 'Recensione': 'Il migliore di sempre', 'Utente': 'Federica'}]}\n"
     ]
    }
   ],
   "source": [
    "# Selezionare tutti i libri pubblicati prima del 2000\n",
    "\n",
    "result = libriCollection.find({\"Anno pubblicazione\": {\"$lt\": 2000}})\n",
    "\n",
    "for r in result: print(r)"
   ]
  },
  {
   "cell_type": "code",
   "execution_count": 13,
   "id": "43f67546",
   "metadata": {},
   "outputs": [
    {
     "name": "stdout",
     "output_type": "stream",
     "text": [
      "{'_id': ObjectId('6429a8e3d5bd0b8abd02e540'), 'Titolo': 'Harry Potter e la pietra filosofale', 'Autore': 'Rowling', 'Anno pubblicazione': 1997, 'Genere': ['Fantascienza', 'Magia'], 'Recensioni': [{'Stelle': 4, 'Recensione': 'Bel libro', 'Utente': 'Marco'}, {'Stelle': 5, 'Recensione': 'Il mio libro preferito', 'Utente': 'Luigi'}, {'Stelle': 2, 'Recensione': 'Noioso', 'Utente': 'Giorgio'}]}\n",
      "{'_id': ObjectId('6429a8e3d5bd0b8abd02e541'), 'Titolo': 'Harry Potter e la camera dei segreti', 'Autore': 'Rowling', 'Anno pubblicazione': 1999, 'Genere': ['Fantascienza', 'Magia'], 'Recensioni': [{'Stelle': 2, 'Recensione': 'Meglio il primo'}]}\n"
     ]
    }
   ],
   "source": [
    "# Selezionare tutti i libri il cui titolo inizia per \"Harry Potter\"\n",
    "\n",
    "result = libriCollection.find({\"Titolo\": {\"$regex\": \"^Harry Potter\"}})\n",
    "\n",
    "for r in result: print(r)"
   ]
  },
  {
   "cell_type": "code",
   "execution_count": 14,
   "id": "0b9bc787",
   "metadata": {},
   "outputs": [
    {
     "name": "stdout",
     "output_type": "stream",
     "text": [
      "{'_id': ObjectId('6429a8e3d5bd0b8abd02e542'), 'Titolo': 'Il signore degli anelli', 'Autore': 'Tolkien', 'Genere': ['Fantascienza', 'Avventura'], 'Recensioni': [{'Stelle': 4, 'Recensione': 'Emozionante', 'Utente': 'Luigi'}, {'Stelle': 5, 'Recensione': 'Il migliore di sempre', 'Utente': 'Mirco'}]}\n",
      "{'_id': ObjectId('6429a8e3d5bd0b8abd02e543'), 'Titolo': 'Zanna Bianca', 'Autore': 'London', 'Genere': ['Avventura'], 'Anno pubblicazione': 1906, 'Recensioni': [{'Stelle': 1, 'Recensione': 'Orribile', 'Utente': 'Luigi'}, {'Stelle': 5, 'Recensione': 'Il migliore di sempre', 'Utente': 'Federica'}]}\n",
      "{'_id': ObjectId('6429a8e3d5bd0b8abd02e540'), 'Titolo': 'Harry Potter e la pietra filosofale', 'Autore': 'Rowling', 'Anno pubblicazione': 1997, 'Genere': ['Fantascienza', 'Magia'], 'Recensioni': [{'Stelle': 4, 'Recensione': 'Bel libro', 'Utente': 'Marco'}, {'Stelle': 5, 'Recensione': 'Il mio libro preferito', 'Utente': 'Luigi'}, {'Stelle': 2, 'Recensione': 'Noioso', 'Utente': 'Giorgio'}]}\n",
      "{'_id': ObjectId('6429a8e3d5bd0b8abd02e541'), 'Titolo': 'Harry Potter e la camera dei segreti', 'Autore': 'Rowling', 'Anno pubblicazione': 1999, 'Genere': ['Fantascienza', 'Magia'], 'Recensioni': [{'Stelle': 2, 'Recensione': 'Meglio il primo'}]}\n",
      "{'_id': ObjectId('6429a8e3d5bd0b8abd02e545'), 'Titolo': 'Il codice da vinci', 'Autore': 'Brown', 'Genere': ['Azione'], 'Anno pubblicazione': 2003}\n",
      "{'_id': ObjectId('6429a8e3d5bd0b8abd02e544'), 'Titolo': 'Inferno', 'Autore': 'Brown', 'Genere': ['Avventura'], 'Anno pubblicazione': 2013, 'Recensioni': [{'Stelle': 4, 'Recensione': 'Stupendo', 'Utente': 'Mirco'}, {'Stelle': 5, 'Recensione': \"Brown e' il mio autore preferito\", 'Utente': 'Luisa'}]}\n"
     ]
    }
   ],
   "source": [
    "# Selezionare tutti i libri in ordine crescente di anno di pubblicazione\n",
    "\n",
    "result = libriCollection.find().sort(\"Anno pubblicazione\", 1)\n",
    "\n",
    "for r in result: print(r)"
   ]
  },
  {
   "cell_type": "code",
   "execution_count": 15,
   "id": "4ad6f6fb",
   "metadata": {},
   "outputs": [
    {
     "name": "stdout",
     "output_type": "stream",
     "text": [
      "{'_id': ObjectId('6429a8e3d5bd0b8abd02e544'), 'Titolo': 'Inferno', 'Autore': 'Brown', 'Genere': ['Avventura'], 'Anno pubblicazione': 2013, 'Recensioni': [{'Stelle': 4, 'Recensione': 'Stupendo', 'Utente': 'Mirco'}, {'Stelle': 5, 'Recensione': \"Brown e' il mio autore preferito\", 'Utente': 'Luisa'}]}\n",
      "{'_id': ObjectId('6429a8e3d5bd0b8abd02e545'), 'Titolo': 'Il codice da vinci', 'Autore': 'Brown', 'Genere': ['Azione'], 'Anno pubblicazione': 2003}\n",
      "{'_id': ObjectId('6429a8e3d5bd0b8abd02e541'), 'Titolo': 'Harry Potter e la camera dei segreti', 'Autore': 'Rowling', 'Anno pubblicazione': 1999, 'Genere': ['Fantascienza', 'Magia'], 'Recensioni': [{'Stelle': 2, 'Recensione': 'Meglio il primo'}]}\n",
      "{'_id': ObjectId('6429a8e3d5bd0b8abd02e540'), 'Titolo': 'Harry Potter e la pietra filosofale', 'Autore': 'Rowling', 'Anno pubblicazione': 1997, 'Genere': ['Fantascienza', 'Magia'], 'Recensioni': [{'Stelle': 4, 'Recensione': 'Bel libro', 'Utente': 'Marco'}, {'Stelle': 5, 'Recensione': 'Il mio libro preferito', 'Utente': 'Luigi'}, {'Stelle': 2, 'Recensione': 'Noioso', 'Utente': 'Giorgio'}]}\n",
      "{'_id': ObjectId('6429a8e3d5bd0b8abd02e543'), 'Titolo': 'Zanna Bianca', 'Autore': 'London', 'Genere': ['Avventura'], 'Anno pubblicazione': 1906, 'Recensioni': [{'Stelle': 1, 'Recensione': 'Orribile', 'Utente': 'Luigi'}, {'Stelle': 5, 'Recensione': 'Il migliore di sempre', 'Utente': 'Federica'}]}\n",
      "{'_id': ObjectId('6429a8e3d5bd0b8abd02e542'), 'Titolo': 'Il signore degli anelli', 'Autore': 'Tolkien', 'Genere': ['Fantascienza', 'Avventura'], 'Recensioni': [{'Stelle': 4, 'Recensione': 'Emozionante', 'Utente': 'Luigi'}, {'Stelle': 5, 'Recensione': 'Il migliore di sempre', 'Utente': 'Mirco'}]}\n"
     ]
    }
   ],
   "source": [
    "# Selezionare tutti i libri in ordine decrescente di anno di pubblicazione\n",
    "\n",
    "result = libriCollection.find().sort(\"Anno pubblicazione\", -1)\n",
    "\n",
    "for r in result: print(r)"
   ]
  },
  {
   "cell_type": "code",
   "execution_count": 16,
   "id": "0f389cb3",
   "metadata": {},
   "outputs": [
    {
     "name": "stdout",
     "output_type": "stream",
     "text": [
      "{'_id': ObjectId('6429a8e3d5bd0b8abd02e544'), 'Titolo': 'Inferno', 'Autore': 'Brown', 'Genere': ['Avventura'], 'Anno pubblicazione': 2013, 'Recensioni': [{'Stelle': 4, 'Recensione': 'Stupendo', 'Utente': 'Mirco'}, {'Stelle': 5, 'Recensione': \"Brown e' il mio autore preferito\", 'Utente': 'Luisa'}]}\n",
      "{'_id': ObjectId('6429a8e3d5bd0b8abd02e545'), 'Titolo': 'Il codice da vinci', 'Autore': 'Brown', 'Genere': ['Azione'], 'Anno pubblicazione': 2003}\n"
     ]
    }
   ],
   "source": [
    "# Selezionare i due libri più recenti\n",
    "\n",
    "result = libriCollection.find().sort(\"Anno pubblicazione\", -1).limit(2)\n",
    "\n",
    "for r in result: print(r)"
   ]
  },
  {
   "cell_type": "code",
   "execution_count": 17,
   "id": "3826da8e",
   "metadata": {},
   "outputs": [
    {
     "name": "stdout",
     "output_type": "stream",
     "text": [
      "{'_id': ObjectId('6429a8e3d5bd0b8abd02e542'), 'Titolo': 'Il signore degli anelli', 'Autore': 'Tolkien', 'Genere': ['Fantascienza', 'Avventura'], 'Recensioni': [{'Stelle': 4, 'Recensione': 'Emozionante', 'Utente': 'Luigi'}, {'Stelle': 5, 'Recensione': 'Il migliore di sempre', 'Utente': 'Mirco'}]}\n",
      "{'_id': ObjectId('6429a8e3d5bd0b8abd02e543'), 'Titolo': 'Zanna Bianca', 'Autore': 'London', 'Genere': ['Avventura'], 'Anno pubblicazione': 1906, 'Recensioni': [{'Stelle': 1, 'Recensione': 'Orribile', 'Utente': 'Luigi'}, {'Stelle': 5, 'Recensione': 'Il migliore di sempre', 'Utente': 'Federica'}]}\n",
      "{'_id': ObjectId('6429a8e3d5bd0b8abd02e544'), 'Titolo': 'Inferno', 'Autore': 'Brown', 'Genere': ['Avventura'], 'Anno pubblicazione': 2013, 'Recensioni': [{'Stelle': 4, 'Recensione': 'Stupendo', 'Utente': 'Mirco'}, {'Stelle': 5, 'Recensione': \"Brown e' il mio autore preferito\", 'Utente': 'Luisa'}]}\n"
     ]
    }
   ],
   "source": [
    "# Selezionare i libri che tra i generi hanno \"Avventura\"\n",
    "\n",
    "result = libriCollection.find({\"Genere\": \"Avventura\"})\n",
    "\n",
    "for r in result: print(r)"
   ]
  },
  {
   "cell_type": "code",
   "execution_count": 18,
   "id": "cb4701d9",
   "metadata": {},
   "outputs": [
    {
     "name": "stdout",
     "output_type": "stream",
     "text": [
      "{'_id': ObjectId('6429a8e3d5bd0b8abd02e543'), 'Titolo': 'Zanna Bianca', 'Autore': 'London', 'Genere': ['Avventura'], 'Anno pubblicazione': 1906, 'Recensioni': [{'Stelle': 1, 'Recensione': 'Orribile', 'Utente': 'Luigi'}, {'Stelle': 5, 'Recensione': 'Il migliore di sempre', 'Utente': 'Federica'}]}\n",
      "{'_id': ObjectId('6429a8e3d5bd0b8abd02e544'), 'Titolo': 'Inferno', 'Autore': 'Brown', 'Genere': ['Avventura'], 'Anno pubblicazione': 2013, 'Recensioni': [{'Stelle': 4, 'Recensione': 'Stupendo', 'Utente': 'Mirco'}, {'Stelle': 5, 'Recensione': \"Brown e' il mio autore preferito\", 'Utente': 'Luisa'}]}\n"
     ]
    }
   ],
   "source": [
    "# Selezionare i libri che hanno come genere \"Avventura\" e nient'altro\n",
    "\n",
    "result = libriCollection.find({\"Genere\": [\"Avventura\"]})\n",
    "\n",
    "for r in result: print(r)"
   ]
  },
  {
   "cell_type": "code",
   "execution_count": 19,
   "id": "4bd6ec44",
   "metadata": {},
   "outputs": [
    {
     "name": "stdout",
     "output_type": "stream",
     "text": [
      "{'_id': ObjectId('6429a8e3d5bd0b8abd02e540'), 'Titolo': 'Harry Potter e la pietra filosofale', 'Autore': 'Rowling', 'Anno pubblicazione': 1997, 'Genere': ['Fantascienza', 'Magia'], 'Recensioni': [{'Stelle': 4, 'Recensione': 'Bel libro', 'Utente': 'Marco'}, {'Stelle': 5, 'Recensione': 'Il mio libro preferito', 'Utente': 'Luigi'}, {'Stelle': 2, 'Recensione': 'Noioso', 'Utente': 'Giorgio'}]}\n",
      "{'_id': ObjectId('6429a8e3d5bd0b8abd02e542'), 'Titolo': 'Il signore degli anelli', 'Autore': 'Tolkien', 'Genere': ['Fantascienza', 'Avventura'], 'Recensioni': [{'Stelle': 4, 'Recensione': 'Emozionante', 'Utente': 'Luigi'}, {'Stelle': 5, 'Recensione': 'Il migliore di sempre', 'Utente': 'Mirco'}]}\n",
      "{'_id': ObjectId('6429a8e3d5bd0b8abd02e543'), 'Titolo': 'Zanna Bianca', 'Autore': 'London', 'Genere': ['Avventura'], 'Anno pubblicazione': 1906, 'Recensioni': [{'Stelle': 1, 'Recensione': 'Orribile', 'Utente': 'Luigi'}, {'Stelle': 5, 'Recensione': 'Il migliore di sempre', 'Utente': 'Federica'}]}\n"
     ]
    }
   ],
   "source": [
    "# Selezionare tutti i libri recensiti da Luigi\n",
    "\n",
    "result = libriCollection.find({\"Recensioni.Utente\": \"Luigi\"})\n",
    "\n",
    "for r in result: print(r)"
   ]
  },
  {
   "cell_type": "code",
   "execution_count": 20,
   "id": "f7e700cd",
   "metadata": {},
   "outputs": [
    {
     "name": "stdout",
     "output_type": "stream",
     "text": [
      "{'_id': ObjectId('6429a8e3d5bd0b8abd02e540'), 'Titolo': 'Harry Potter e la pietra filosofale', 'Autore': 'Rowling', 'Anno pubblicazione': 1997, 'Genere': ['Fantascienza', 'Magia'], 'Recensioni': [{'Stelle': 4, 'Recensione': 'Bel libro', 'Utente': 'Marco'}, {'Stelle': 5, 'Recensione': 'Il mio libro preferito', 'Utente': 'Luigi'}, {'Stelle': 2, 'Recensione': 'Noioso', 'Utente': 'Giorgio'}]}\n",
      "{'_id': ObjectId('6429a8e3d5bd0b8abd02e542'), 'Titolo': 'Il signore degli anelli', 'Autore': 'Tolkien', 'Genere': ['Fantascienza', 'Avventura'], 'Recensioni': [{'Stelle': 4, 'Recensione': 'Emozionante', 'Utente': 'Luigi'}, {'Stelle': 5, 'Recensione': 'Il migliore di sempre', 'Utente': 'Mirco'}]}\n",
      "{'_id': ObjectId('6429a8e3d5bd0b8abd02e543'), 'Titolo': 'Zanna Bianca', 'Autore': 'London', 'Genere': ['Avventura'], 'Anno pubblicazione': 1906, 'Recensioni': [{'Stelle': 1, 'Recensione': 'Orribile', 'Utente': 'Luigi'}, {'Stelle': 5, 'Recensione': 'Il migliore di sempre', 'Utente': 'Federica'}]}\n",
      "{'_id': ObjectId('6429a8e3d5bd0b8abd02e544'), 'Titolo': 'Inferno', 'Autore': 'Brown', 'Genere': ['Avventura'], 'Anno pubblicazione': 2013, 'Recensioni': [{'Stelle': 4, 'Recensione': 'Stupendo', 'Utente': 'Mirco'}, {'Stelle': 5, 'Recensione': \"Brown e' il mio autore preferito\", 'Utente': 'Luisa'}]}\n"
     ]
    }
   ],
   "source": [
    "# Selezionare tutti i libri che hanno ricevuto almeno una recensione a 4 o più stelle\n",
    "\n",
    "result = libriCollection.find({\"Recensioni.Stelle\": {\"$gt\": 4}})\n",
    "\n",
    "for r in result: print(r)"
   ]
  },
  {
   "cell_type": "code",
   "execution_count": 21,
   "id": "eff24663",
   "metadata": {},
   "outputs": [
    {
     "name": "stdout",
     "output_type": "stream",
     "text": [
      "{'_id': 'Harry Potter e la camera dei segreti', 'Recensione media': 2.0}\n",
      "{'_id': 'Il signore degli anelli', 'Recensione media': 4.5}\n",
      "{'_id': 'Zanna Bianca', 'Recensione media': 3.0}\n",
      "{'_id': 'Harry Potter e la pietra filosofale', 'Recensione media': 3.6666666666666665}\n",
      "{'_id': 'Inferno', 'Recensione media': 4.5}\n"
     ]
    }
   ],
   "source": [
    "# Calcolare il numero di stelle medio ricevuto da ciascun libro\n",
    "\n",
    "result = libriCollection.aggregate([\n",
    "    {\"$unwind\": \"$Recensioni\"},\n",
    "    {\"$group\": {\"_id\": \"$Titolo\", \"Recensione media\": {\"$avg\": \"$Recensioni.Stelle\"}}}\n",
    "])\n",
    "\n",
    "for r in result: print(r)"
   ]
  },
  {
   "cell_type": "markdown",
   "id": "612a384f",
   "metadata": {},
   "source": [
    "### Da notare la presenza di \"unwind\" che scompone l'array Recensioni in documenti separati per ogni recensione, in modo da poter fare una query sui singoli valori di Recensioni.Stelle"
   ]
  },
  {
   "cell_type": "code",
   "execution_count": 22,
   "id": "dacd8551",
   "metadata": {},
   "outputs": [
    {
     "name": "stdout",
     "output_type": "stream",
     "text": [
      "{'_id': 'Harry Potter e la camera dei segreti', 'count': 1}\n",
      "{'_id': 'Zanna Bianca', 'count': 2}\n",
      "{'_id': 'Inferno', 'count': 2}\n",
      "{'_id': 'Harry Potter e la pietra filosofale', 'count': 3}\n",
      "{'_id': 'Il signore degli anelli', 'count': 2}\n"
     ]
    }
   ],
   "source": [
    "# Contare il numero di recensioni ricevute da ciascun libro\n",
    "\n",
    "result = libriCollection.aggregate([\n",
    "    {\"$unwind\": \"$Recensioni\"},\n",
    "    {\"$group\": {\"_id\": \"$Titolo\", \"count\": {\"$sum\": 1}}}\n",
    "])\n",
    "\n",
    "for r in result: print(r)"
   ]
  },
  {
   "cell_type": "markdown",
   "id": "8421b93e",
   "metadata": {},
   "source": [
    "### In alternativa"
   ]
  },
  {
   "cell_type": "code",
   "execution_count": 23,
   "id": "d5e7ff52",
   "metadata": {},
   "outputs": [
    {
     "name": "stdout",
     "output_type": "stream",
     "text": [
      "{'_id': ObjectId('6429a8e3d5bd0b8abd02e540'), 'Titolo': 'Harry Potter e la pietra filosofale', 'Recensioni_count': 3}\n",
      "{'_id': ObjectId('6429a8e3d5bd0b8abd02e541'), 'Titolo': 'Harry Potter e la camera dei segreti', 'Recensioni_count': 1}\n",
      "{'_id': ObjectId('6429a8e3d5bd0b8abd02e542'), 'Titolo': 'Il signore degli anelli', 'Recensioni_count': 2}\n",
      "{'_id': ObjectId('6429a8e3d5bd0b8abd02e543'), 'Titolo': 'Zanna Bianca', 'Recensioni_count': 2}\n",
      "{'_id': ObjectId('6429a8e3d5bd0b8abd02e544'), 'Titolo': 'Inferno', 'Recensioni_count': 2}\n",
      "{'_id': ObjectId('6429a8e3d5bd0b8abd02e545'), 'Titolo': 'Il codice da vinci', 'Recensioni_count': 0}\n"
     ]
    }
   ],
   "source": [
    "# Contare il numero di recensioni ricevute da ciascun libro\n",
    "\n",
    "result = libriCollection.aggregate([\n",
    "    {\"$project\": {\"Titolo\": 1, \"Recensioni_count\": {\"$size\": {\"$ifNull\": [\"$Recensioni\", []]}}}}\n",
    "])\n",
    "\n",
    "for r in result: print(r)"
   ]
  },
  {
   "cell_type": "code",
   "execution_count": 24,
   "id": "f0eeebee",
   "metadata": {},
   "outputs": [
    {
     "name": "stdout",
     "output_type": "stream",
     "text": [
      "numero di elementi modificati: 2\n",
      "{'_id': ObjectId('6429a8e3d5bd0b8abd02e544'), 'Titolo': 'Inferno', 'Autore': 'Brown', 'Genere': ['Avventura'], 'Anno pubblicazione': 2013, 'Recensioni': [{'Stelle': 4, 'Recensione': 'Stupendo', 'Utente': 'Mirco'}, {'Stelle': 5, 'Recensione': \"Brown e' il mio autore preferito\", 'Utente': 'Luisa'}], 'Moderno': True}\n",
      "{'_id': ObjectId('6429a8e3d5bd0b8abd02e545'), 'Titolo': 'Il codice da vinci', 'Autore': 'Brown', 'Genere': ['Azione'], 'Anno pubblicazione': 2003, 'Moderno': True}\n"
     ]
    }
   ],
   "source": [
    "# Per i libri pubblicati dopo il 2000, settare \"Moderno\" uguale a True\n",
    "\n",
    "query = {\"Anno pubblicazione\": {\"$gt\": 2000}}\n",
    "value = {\"$set\": {\"Moderno\": True}}\n",
    "result = libriCollection.update_many(query, value)\n",
    "\n",
    "print(\"numero di elementi modificati: \" + str(result.modified_count))\n",
    "\n",
    "result = libriCollection.find(query)\n",
    "\n",
    "for r in result: print(r)"
   ]
  },
  {
   "cell_type": "code",
   "execution_count": 25,
   "id": "a6344717",
   "metadata": {},
   "outputs": [
    {
     "name": "stdout",
     "output_type": "stream",
     "text": [
      "{'_id': ObjectId('6429a8e3d5bd0b8abd02e540'), 'Titolo': 'Harry Potter e la pietra filosofale', 'Autore': 'Rowling', 'Anno pubblicazione': 1997, 'Genere': ['Fantascienza', 'Magia'], 'Recensioni': [{'Stelle': 4, 'Recensione': 'Bel libro', 'Utente': 'Marco'}, {'Stelle': 5, 'Recensione': 'Il mio libro preferito', 'Utente': 'Luigi'}, {'Stelle': 2, 'Recensione': 'Noioso', 'Utente': 'Giorgio'}]}\n",
      "{'_id': ObjectId('6429a8e3d5bd0b8abd02e541'), 'Titolo': 'Harry Potter e la camera dei segreti', 'Autore': 'Rowling', 'Anno pubblicazione': 1999, 'Genere': ['Fantascienza', 'Magia'], 'Recensioni': [{'Stelle': 2, 'Recensione': 'Meglio il primo'}]}\n",
      "{'_id': ObjectId('6429a8e3d5bd0b8abd02e542'), 'Titolo': 'Il signore degli anelli', 'Autore': 'Tolkien', 'Genere': ['Fantascienza', 'Avventura'], 'Recensioni': [{'Stelle': 4, 'Recensione': 'Emozionante', 'Utente': 'Luigi'}, {'Stelle': 5, 'Recensione': 'Il migliore di sempre', 'Utente': 'Mirco'}]}\n",
      "{'_id': ObjectId('6429a8e3d5bd0b8abd02e543'), 'Titolo': 'Zanna Bianca', 'Autore': 'London', 'Genere': ['Avventura'], 'Anno pubblicazione': 1906, 'Recensioni': [{'Stelle': 1, 'Recensione': 'Orribile', 'Utente': 'Luigi'}, {'Stelle': 5, 'Recensione': 'Il migliore di sempre', 'Utente': 'Federica'}]}\n"
     ]
    }
   ],
   "source": [
    "# Eliminare i libri di Brown\n",
    "\n",
    "result = libriCollection.delete_many({\"Autore\": \"Brown\"})\n",
    "\n",
    "result = libriCollection.find()\n",
    "\n",
    "for r in result: print(r)"
   ]
  }
 ],
 "metadata": {
  "kernelspec": {
   "display_name": "Python 3 (ipykernel)",
   "language": "python",
   "name": "python3"
  },
  "language_info": {
   "codemirror_mode": {
    "name": "ipython",
    "version": 3
   },
   "file_extension": ".py",
   "mimetype": "text/x-python",
   "name": "python",
   "nbconvert_exporter": "python",
   "pygments_lexer": "ipython3",
   "version": "3.9.13"
  }
 },
 "nbformat": 4,
 "nbformat_minor": 5
}
